{
 "cells": [
  {
   "cell_type": "code",
   "execution_count": 1,
   "metadata": {},
   "outputs": [],
   "source": [
    "# Add relevant Jupyter notebook extensions "
   ]
  },
  {
   "cell_type": "code",
   "execution_count": 3,
   "metadata": {},
   "outputs": [
    {
     "name": "stdout",
     "output_type": "stream",
     "text": [
      "['/opt/anaconda3/lib/python312.zip', '/opt/anaconda3/lib/python3.12', '/opt/anaconda3/lib/python3.12/lib-dynload', '', '/Users/mateuszkasprzak/CODE/B1/Assignment_1/b1-coding-practical1-mt25/.venv/lib/python3.12/site-packages']\n"
     ]
    }
   ],
   "source": [
    "# You can double-check your Python path like this...\n",
    "import sys  \n",
    "print(sys.path)"
   ]
  },
  {
   "cell_type": "markdown",
   "metadata": {},
   "source": [
    "# Simulate closed-loop\n",
    "After implementing your control functionality, you can simulate the closed-loop with code that looks something like this..."
   ]
  },
  {
   "cell_type": "code",
   "execution_count": 4,
   "metadata": {},
   "outputs": [
    {
     "ename": "NameError",
     "evalue": "name 'Submarine' is not defined",
     "output_type": "error",
     "traceback": [
      "\u001b[31m---------------------------------------------------------------------------\u001b[39m",
      "\u001b[31mNameError\u001b[39m                                 Traceback (most recent call last)",
      "\u001b[36mCell\u001b[39m\u001b[36m \u001b[39m\u001b[32mIn[4]\u001b[39m\u001b[32m, line 3\u001b[39m\n\u001b[32m      1\u001b[39m \u001b[38;5;66;03m# Import relevant modules\u001b[39;00m\n\u001b[32m----> \u001b[39m\u001b[32m3\u001b[39m sub = \u001b[43mSubmarine\u001b[49m()\n\u001b[32m      4\u001b[39m \u001b[38;5;66;03m# Instantiate your controller (depending on your implementation)\u001b[39;00m\n\u001b[32m      5\u001b[39m closed_loop = ClosedLoop(sub, controller)\n",
      "\u001b[31mNameError\u001b[39m: name 'Submarine' is not defined"
     ]
    }
   ],
   "source": [
    "# Import relevant modules\n",
    "\n",
    "sub = Submarine()\n",
    "# Instantiate your controller (depending on your implementation)\n",
    "closed_loop = ClosedLoop(sub, controller)\n",
    "mission = Mission.from_csv(\"path/to/file\") # You must implement this method in the Mission class\n",
    "\n",
    "trajectory = closed_loop.simulate_with_random_disturbances(mission)\n",
    "trajectory.plot_completed_mission(mission)"
   ]
  },
  {
   "cell_type": "markdown",
   "metadata": {},
   "source": [
    "# Demo: PD controller simulation\n",
    "\n",
    "This notebook demonstrates the PD controller and the `ClosedLoop` simulation using the mission in `data/mission.csv`.\n",
    "\n",
    "Steps:\n",
    "- load mission\n",
    "- instantiate PD controller (KP=0.15, KD=0.6)\n",
    "- run simulation with random disturbances\n",
    "- plot the completed mission and trajectory\n"
   ]
  },
  {
   "cell_type": "code",
   "execution_count": null,
   "metadata": {},
   "outputs": [
    {
     "ename": "ModuleNotFoundError",
     "evalue": "No module named 'uuv_mission'",
     "output_type": "error",
     "traceback": [
      "\u001b[31m---------------------------------------------------------------------------\u001b[39m",
      "\u001b[31mModuleNotFoundError\u001b[39m                       Traceback (most recent call last)",
      "\u001b[36mCell\u001b[39m\u001b[36m \u001b[39m\u001b[32mIn[7]\u001b[39m\u001b[32m, line 2\u001b[39m\n\u001b[32m      1\u001b[39m \u001b[38;5;66;03m# Setup: load mission, controller, plant and simulator\u001b[39;00m\n\u001b[32m----> \u001b[39m\u001b[32m2\u001b[39m \u001b[38;5;28;01mfrom\u001b[39;00m\u001b[38;5;250m \u001b[39m\u001b[34;01muuv_mission\u001b[39;00m\u001b[34;01m.\u001b[39;00m\u001b[34;01mdynamic\u001b[39;00m\u001b[38;5;250m \u001b[39m\u001b[38;5;28;01mimport\u001b[39;00m Mission, Submarine, ClosedLoop\n\u001b[32m      3\u001b[39m \u001b[38;5;28;01mfrom\u001b[39;00m\u001b[38;5;250m \u001b[39m\u001b[34;01muuv_mission\u001b[39;00m\u001b[34;01m.\u001b[39;00m\u001b[34;01mcontrol\u001b[39;00m\u001b[38;5;250m \u001b[39m\u001b[38;5;28;01mimport\u001b[39;00m PDController\n\u001b[32m      5\u001b[39m \u001b[38;5;66;03m# Load mission from CSV\u001b[39;00m\n",
      "\u001b[31mModuleNotFoundError\u001b[39m: No module named 'uuv_mission'"
     ]
    }
   ],
   "source": [
    "# Setup: ensure project root is on sys.path, then load mission, controller, plant and simulator\n",
    "import sys\n",
    "from pathlib import Path\n",
    "\n",
    "# Determine project root robustly: if notebook's cwd is 'notebooks', parent is project root\n",
    "cwd = Path.cwd()\n",
    "project_root = cwd.parent if cwd.name == \"notebooks\" else cwd\n",
    "sys.path.insert(0, str(project_root.resolve()))\n",
    "print(\"python executable:\", sys.executable)\n",
    "print(\"project_root added to sys.path:\", project_root)\n",
    "\n",
    "from uuv_mission.dynamic import Mission, Submarine, ClosedLoop\n",
    "from uuv_mission.control import PDController\n",
    "\n",
    "# Load mission from CSV using explicit path relative to project root\n",
    "mission_path = project_root / 'data' / 'mission.csv'\n",
    "mission = Mission.from_csv(str(mission_path))\n",
    "\n",
    "# Instantiate controller and simulator\n",
    "controller = PDController(kp=0.15, kd=0.6)\n",
    "plant = Submarine()\n",
    "closed_loop = ClosedLoop(plant, controller)\n",
    "\n",
    "# Run simulation with random disturbances\n",
    "trajectory = closed_loop.simulate_with_random_disturbances(mission, variance=0.5)\n",
    "\n",
    "# Plot results\n",
    "trajectory.plot_completed_mission(mission)\n",
    "print('Simulation finished. Trajectory shape:', trajectory.position.shape)\n"
   ]
  },
  {
   "cell_type": "markdown",
   "metadata": {},
   "source": [
    "Notes:\n",
    "\n",
    "- Try increasing KD if the vehicle responds too sluggishly; reduce KP if there is steady-state overshoot.\n",
    "- The current gains (KP=0.15, KD=0.6) are a starting point — tune in the notebook interactively.\n",
    "- Use `simulate_with_random_disturbances(mission, variance=...)` to test robustness to disturbance.\n"
   ]
  }
 ],
 "metadata": {
  "kernelspec": {
   "display_name": ".venv",
   "language": "python",
   "name": "python3"
  },
  "language_info": {
   "codemirror_mode": {
    "name": "ipython",
    "version": 3
   },
   "file_extension": ".py",
   "mimetype": "text/x-python",
   "name": "python",
   "nbconvert_exporter": "python",
   "pygments_lexer": "ipython3",
   "version": "3.12.7"
  }
 },
 "nbformat": 4,
 "nbformat_minor": 2
}
